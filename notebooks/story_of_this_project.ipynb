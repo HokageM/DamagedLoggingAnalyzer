{
 "cells": [
  {
   "metadata": {},
   "cell_type": "markdown",
   "source": [
    "# Damaged Logging\n",
    "\n",
    "## What is the dataset about?\n",
    "\n",
    "The dataset contains statistics on forest wood harvesting due to various damages in Germany,\n",
    "listed by year, type of wood species groups, and ownership types of forests. \n",
    "\n",
    "Each entry specifies the volume of wood harvested (in cubic meters) due to different causes\n",
    "such as wind/storm, snow/ice damage, insects, drought, and other reasons."
   ],
   "id": "7801f749e1674313"
  },
  {
   "metadata": {
    "ExecuteTime": {
     "end_time": "2024-05-15T13:06:29.017906Z",
     "start_time": "2024-05-15T13:06:29.015124Z"
    }
   },
   "cell_type": "code",
   "source": [
    "import sys\n",
    "import os\n",
    "\n",
    "# Get the current notebook directory\n",
    "notebook_dir = os.getcwd()\n",
    "\n",
    "# Construct the path to the src directory\n",
    "src_dir = os.path.join(notebook_dir, '..', 'src')\n",
    "\n",
    "# Add the src directory to the Python path\n",
    "sys.path.append(src_dir)"
   ],
   "id": "268e5493c7a23e80",
   "outputs": [],
   "execution_count": 32
  },
  {
   "metadata": {},
   "cell_type": "markdown",
   "source": "Please set the output directory where the plots will be saved.",
   "id": "537551050b4bc0c5"
  },
  {
   "metadata": {
    "ExecuteTime": {
     "end_time": "2024-05-15T13:06:29.020298Z",
     "start_time": "2024-05-15T13:06:29.018739Z"
    }
   },
   "cell_type": "code",
   "source": "out_dir = '../path/to/your/out/dir'",
   "id": "54d0b773103f1368",
   "outputs": [],
   "execution_count": 33
  },
  {
   "metadata": {},
   "cell_type": "markdown",
   "source": [
    "## Temporal Trends\n",
    "\n",
    "**Question**:\n",
    "How has the damage-caused wood harvesting changed over the years? \n",
    "\n",
    "I created individual plots for the total volume of wood harvested due to different reasons (drought, wind/storm, snow, insects, miscellaneous, total) over the years for different types of wood species.\n",
    "And additionally, I created combined plots for the different types of wood species.\n",
    "**Note:** In the following, I will only show the combined plots for the different types of wood species. The other plots can be found in the [plots](https://github.com/HokageM/DamagedLoggingAnalyzer/tree/main/plots) directory or can be generated with the following command:\n"
   ],
   "id": "3b54a787e2deecc6"
  },
  {
   "metadata": {
    "ExecuteTime": {
     "end_time": "2024-05-15T13:06:31.726021Z",
     "start_time": "2024-05-15T13:06:29.020896Z"
    }
   },
   "cell_type": "code",
   "source": [
    "from src.damagedlogginganalyzer.DamagedLoggingAnalyzer import DamagedLoggingAnalyzer\n",
    "\n",
    "with DamagedLoggingAnalyzer(out_dir) as analyzer:\n",
    "    analyzer.read_in_csv('../data/DamagedLoggingWoodFixTable.csv')\n",
    "    analyzer.analyze(plot_temporal_dependencies=True, predict=False)\n",
    "    print(\"Plotting Done\")"
   ],
   "id": "1ea144365640c444",
   "outputs": [
    {
     "name": "stdout",
     "output_type": "stream",
     "text": [
      "Plotting Done\n"
     ]
    }
   ],
   "execution_count": 34
  },
  {
   "metadata": {},
   "cell_type": "markdown",
   "source": [
    "\n",
    "Total Oak and Red Oak deaths over the years in Germany:\n",
    "\n",
    "<img src=\"../plots/Eiche_und_Roteiche/all_reasons/Insgesamt/plot.png\" width=\"500\">\n",
    "\n",
    "Total Beech and Hardwood deaths over the years in Germany:\n",
    "\n",
    "<img src=\"../plots/Buche_und_sonstiges_Laubholz/all_reasons/Insgesamt/plot.png\" width=\"500\">\n",
    "\n",
    "Total Spruce deaths over the years in Germany:\n",
    "\n",
    "<img src=\"../plots/Fichte_und_Tanne_und_Douglasie_und_sonstiges_Nadelholz/all_reasons/Insgesamt/plot.png\" width=\"500\">\n",
    "\n",
    "Total Pine deaths over the years in Germany:\n",
    "\n",
    "<img src=\"../plots/Kiefer_und_L�rche/all_reasons/Insgesamt/plot.png\" width=\"500\">\n",
    "\n",
    "**Warning**: The dataset value for 'Insgesamt' seams incorrect.\n",
    "Total tree deaths over the years in Germany:\n",
    "\n",
    "<img src=\"../plots/Insgesamt/all_reasons/Insgesamt/plot.png\" width=\"500\">\n",
    "\n",
    "**Question**:\n",
    "Are there increasing trends in certain types of damage like drought or insects, possibly linked to climate change?\n",
    "\n",
    "All in all, the death of all species due to drought, snow, and insects can be modeled as linear (near constant) functions.\n",
    "Please look in [Prediction_2024](https://github.com/HokageM/DamagedLoggingAnalyzer/tree/main/plots/Prediction_2024) for the function estimations.\n",
    "\n",
    "The deaths of all species due to wind/storm depends on the year and fluctuate between high and low values.\n",
    "But one can see a very high number of deaths due to wind/storm in the year 2006 and 2018.\n",
    "\n",
    "The deaths of all species due to \"Sonsitges\" (miscellaneous) can be modeled quit good with a polynomial function and are increasing over the years.\n",
    "\n",
    "The total deaths of all species are increasing over the years."
   ],
   "id": "20fe09f4f837f981"
  },
  {
   "metadata": {},
   "cell_type": "markdown",
   "source": [
    "**Question**:\n",
    "How will the year 2024 look like in terms of the volume of wood harvested due to different causes?\n",
    "\n",
    "I used polynomial regression with k-fold cross validation to predict the volume of wood harvested due to different causes in the year 2024.\n",
    "**Note:** The prediction is based on the data from 2006 to 2023. All plots can be found in the [Prediction_2024](https://github.com/HokageM/DamagedLoggingAnalyzer/tree/main/plots/Prediction_2024) directory or can be generated with the following command:\n"
   ],
   "id": "896a37f11f8f32e5"
  },
  {
   "metadata": {
    "ExecuteTime": {
     "end_time": "2024-05-15T13:06:36.068954Z",
     "start_time": "2024-05-15T13:06:31.726945Z"
    }
   },
   "cell_type": "code",
   "source": [
    "from src.damagedlogginganalyzer.DamagedLoggingAnalyzer import DamagedLoggingAnalyzer\n",
    "\n",
    "with DamagedLoggingAnalyzer(out_dir) as analyzer:\n",
    "    analyzer.read_in_csv('../data/DamagedLoggingWoodFixTable.csv')\n",
    "    analyzer.analyze(plot_temporal_dependencies=False, predict=True)\n",
    "    print(\"Prediction Done\")"
   ],
   "id": "9d7bd7d979fcbf8d",
   "outputs": [
    {
     "name": "stdout",
     "output_type": "stream",
     "text": [
      "Minimum value: 15.3667500929319 at index 0\n",
      "Best degree: 1\n",
      "Train R² score (1 is best) for the best model: 0.05879223673737988\n",
      "Eiche und Roteiche, Einschlagsursache: Wind/ Sturm, Insgesamt in 2024: [152.60130719]\n",
      "Minimum value: 7.756630156232849 at index 0\n",
      "Best degree: 1\n",
      "Train R² score (1 is best) for the best model: 0.0028588006590066772\n",
      "Eiche und Roteiche, Einschlagsursache: Schnee/ Duft, Insgesamt in 2024: [5.73856209]\n",
      "Minimum value: 12.087938179731095 at index 0\n",
      "Best degree: 1\n",
      "Train R² score (1 is best) for the best model: 0.016276196713503777\n",
      "Eiche und Roteiche, Einschlagsursache: Insekten, Insgesamt in 2024: [2.02614379]\n",
      "Minimum value: 3.725465384050987 at index 0\n",
      "Best degree: 1\n",
      "Train R² score (1 is best) for the best model: 0.04264863840272959\n",
      "Eiche und Roteiche, Einschlagsursache: Trockenheit, Insgesamt in 2024: [4.88235294]\n",
      "Minimum value: 49.07827894896516 at index 11\n",
      "Best degree: 12\n",
      "Train R² score (1 is best) for the best model: 0.8256820796277433\n",
      "Eiche und Roteiche, Einschlagsursache: Sonstiges, Insgesamt in 2024: [160.10527931]\n",
      "Minimum value: 11.235414536151618 at index 1\n",
      "Best degree: 2\n",
      "Train R² score (1 is best) for the best model: 0.247151182460719\n",
      "Eiche und Roteiche, Einschlagsursache: Insgesamt, Insgesamt in 2024: [7.98039216]\n",
      "Minimum value: 14.076950160974514 at index 0\n",
      "Best degree: 1\n",
      "Train R² score (1 is best) for the best model: 0.00597827774467985\n",
      "Buche und sonstiges Laubholz, Einschlagsursache: Wind/ Sturm, Insgesamt in 2024: [555.20261438]\n",
      "Minimum value: 0.6853739014045079 at index 1\n",
      "Best degree: 2\n",
      "Train R² score (1 is best) for the best model: 0.024647367136531706\n",
      "Buche und sonstiges Laubholz, Einschlagsursache: Schnee/ Duft, Insgesamt in 2024: [3.55392157]\n",
      "Minimum value: 10.94243661895416 at index 11\n",
      "Best degree: 12\n",
      "Train R² score (1 is best) for the best model: 0.29795727018418516\n",
      "Buche und sonstiges Laubholz, Einschlagsursache: Insekten, Insgesamt in 2024: [83.47050281]\n",
      "Minimum value: 0.7569416494775544 at index 0\n",
      "Best degree: 1\n",
      "Train R² score (1 is best) for the best model: 0.020333026524978037\n",
      "Buche und sonstiges Laubholz, Einschlagsursache: Trockenheit, Insgesamt in 2024: [4.03921569]\n",
      "Minimum value: 0.04262345779777654 at index 1\n",
      "Best degree: 2\n",
      "Train R² score (1 is best) for the best model: 0.9352422025962595\n",
      "Buche und sonstiges Laubholz, Einschlagsursache: Sonstiges, Insgesamt in 2024: [260.80637256]\n",
      "Minimum value: 0.6422172151398935 at index 1\n",
      "Best degree: 2\n",
      "Train R² score (1 is best) for the best model: 0.4450193969601134\n",
      "Buche und sonstiges Laubholz, Einschlagsursache: Insgesamt, Insgesamt in 2024: [5.29656863]\n",
      "Minimum value: 51.639141479481395 at index 0\n",
      "Best degree: 1\n",
      "Train R² score (1 is best) for the best model: 0.03101268595868556\n",
      "Kiefer und L�rche, Einschlagsursache: Wind/ Sturm, Insgesamt in 2024: [1477.37254902]\n",
      "Minimum value: 1.4408537162698645 at index 0\n",
      "Best degree: 1\n",
      "Train R² score (1 is best) for the best model: 0.20139592865558387\n",
      "Kiefer und L�rche, Einschlagsursache: Schnee/ Duft, Insgesamt in 2024: [8.38562092]\n",
      "Minimum value: 1767.2045791002433 at index 0\n",
      "Best degree: 1\n",
      "Train R² score (1 is best) for the best model: 0.07076824588694364\n",
      "Kiefer und L�rche, Einschlagsursache: Insekten, Insgesamt in 2024: [52.48366013]\n",
      "Minimum value: 4.335248746529406 at index 1\n",
      "Best degree: 2\n",
      "Train R² score (1 is best) for the best model: 0.20866582363176855\n",
      "Kiefer und L�rche, Einschlagsursache: Trockenheit, Insgesamt in 2024: [0.90196078]\n",
      "Minimum value: 2.590023640146436 at index 1\n",
      "Best degree: 2\n",
      "Train R² score (1 is best) for the best model: 0.7550248682601041\n",
      "Kiefer und L�rche, Einschlagsursache: Sonstiges, Insgesamt in 2024: [1524.03186285]\n",
      "Minimum value: 14.25775631502181 at index 1\n",
      "Best degree: 2\n",
      "Train R² score (1 is best) for the best model: 0.14470077438272788\n",
      "Kiefer und L�rche, Einschlagsursache: Insgesamt, Insgesamt in 2024: [6.8872549]\n",
      "Minimum value: 1683.5478083612586 at index 0\n",
      "Best degree: 1\n",
      "Train R² score (1 is best) for the best model: 0.03381480616227739\n",
      "Fichte und Tanne und Douglasie und sonstiges Nadelholz, Einschlagsursache: Wind/ Sturm, Insgesamt in 2024: [3739.65359477]\n",
      "Minimum value: 13.925884274196118 at index 0\n",
      "Best degree: 1\n",
      "Train R² score (1 is best) for the best model: 0.0011344031385152054\n",
      "Fichte und Tanne und Douglasie und sonstiges Nadelholz, Einschlagsursache: Schnee/ Duft, Insgesamt in 2024: [4.39869281]\n",
      "Minimum value: 46.57000303874297 at index 0\n",
      "Best degree: 1\n",
      "Train R² score (1 is best) for the best model: 0.01717106430951476\n",
      "Fichte und Tanne und Douglasie und sonstiges Nadelholz, Einschlagsursache: Insekten, Insgesamt in 2024: [575.11764706]\n",
      "Minimum value: 5.007543756607115 at index 1\n",
      "Best degree: 2\n",
      "Train R² score (1 is best) for the best model: 0.1649532573055028\n",
      "Fichte und Tanne und Douglasie und sonstiges Nadelholz, Einschlagsursache: Trockenheit, Insgesamt in 2024: [2.04411765]\n",
      "Minimum value: 5.08171417480278 at index 1\n",
      "Best degree: 2\n",
      "Train R² score (1 is best) for the best model: 0.7212242353108531\n",
      "Fichte und Tanne und Douglasie und sonstiges Nadelholz, Einschlagsursache: Sonstiges, Insgesamt in 2024: [44357.18137717]\n",
      "Minimum value: 2.307100576604192 at index 0\n",
      "Best degree: 1\n",
      "Train R² score (1 is best) for the best model: 0.0042989243317745895\n",
      "Fichte und Tanne und Douglasie und sonstiges Nadelholz, Einschlagsursache: Insgesamt, Insgesamt in 2024: [2.77124183]\n",
      "Minimum value: 2131.6493765348696 at index 1\n",
      "Best degree: 2\n",
      "Train R² score (1 is best) for the best model: 0.09504926609700948\n",
      "Insgesamt, Einschlagsursache: Wind/ Sturm, Insgesamt in 2024: [11492.48039448]\n",
      "Minimum value: 12.94997500456775 at index 0\n",
      "Best degree: 1\n",
      "Train R² score (1 is best) for the best model: 0.0015630584273821357\n",
      "Insgesamt, Einschlagsursache: Schnee/ Duft, Insgesamt in 2024: [5.32679739]\n",
      "Minimum value: 17.811659001504708 at index 0\n",
      "Best degree: 1\n",
      "Train R² score (1 is best) for the best model: 4.426530784273908e-05\n",
      "Insgesamt, Einschlagsursache: Insekten, Insgesamt in 2024: [679.08496732]\n",
      "Minimum value: 5.478286836470101 at index 0\n",
      "Best degree: 1\n",
      "Train R² score (1 is best) for the best model: 0.004771001345666548\n",
      "Insgesamt, Einschlagsursache: Trockenheit, Insgesamt in 2024: [4.11764706]\n",
      "Minimum value: 4.391444985543804 at index 1\n",
      "Best degree: 2\n",
      "Train R² score (1 is best) for the best model: 0.7252951688559695\n",
      "Insgesamt, Einschlagsursache: Sonstiges, Insgesamt in 2024: [46265.85784209]\n",
      "Minimum value: 0.7798877896994827 at index 11\n",
      "Best degree: 12\n",
      "Train R² score (1 is best) for the best model: 0.5284327893805504\n",
      "Insgesamt, Einschlagsursache: Insgesamt, Insgesamt in 2024: [11.29294604]\n",
      "Prediction Done\n"
     ]
    }
   ],
   "execution_count": 35
  },
  {
   "metadata": {},
   "cell_type": "markdown",
   "source": [
    "The death of all species due to \"Sonsitges\" (miscellaneous) can be modeled quit good with a polynomial function, e.g. for the Beech and Hardwood species group:\n",
    "\n",
    "<img src=\"../plots/Prediction_2024/Buche_und_sonstiges_Laubholz/Sonstiges/Insgesamt/plot.png\" width=\"500\">\n",
    "\n",
    "**In some cases prediction does not make sense**, because the death do not follow a polynomial function and depend on other factors, e.g. death causes by insects:\n",
    "\n",
    "<img src=\"../plots/Prediction_2024/Buche_und_sonstiges_Laubholz/Insekten/Insgesamt/plot.png\" width=\"500\">\n",
    "\n",
    "\n",
    "Deaths due to nature like wind/storm, snow, and drought can be modeled as linear functions, e.g. for the Beech and Hardwood species group:\n",
    "**Note**: One need to handle the outliers in the data, e.g. the death of the year 2018 for the Beech and Hardwood species group due to wind/storm.\n",
    "Those outliers come from special events like storms, which are not predictable with the current model.\n",
    "\n",
    "<img src=\"../plots/Prediction_2024/Eiche_und_Roteiche/Wind__Sturm/Insgesamt/plot.png\" width=\"500\">\n"
   ],
   "id": "50201c8c0ad38602"
  }
 ],
 "metadata": {
  "kernelspec": {
   "display_name": "Python 3",
   "language": "python",
   "name": "python3"
  },
  "language_info": {
   "codemirror_mode": {
    "name": "ipython",
    "version": 2
   },
   "file_extension": ".py",
   "mimetype": "text/x-python",
   "name": "python",
   "nbconvert_exporter": "python",
   "pygments_lexer": "ipython2",
   "version": "2.7.6"
  }
 },
 "nbformat": 4,
 "nbformat_minor": 5
}
